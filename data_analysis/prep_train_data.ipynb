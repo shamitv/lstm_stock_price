{
 "cells": [
  {
   "cell_type": "code",
   "execution_count": 1,
   "metadata": {},
   "outputs": [],
   "source": [
    "import pandas as pd\n",
    "import numpy as np\n",
    "\n",
    "from sklearn.preprocessing import MinMaxScaler"
   ]
  },
  {
   "cell_type": "code",
   "execution_count": 2,
   "metadata": {},
   "outputs": [],
   "source": [
    "def get_data_dir():\n",
    "    return '../data/'\n",
    "\n",
    "\n",
    "def merged_file_path():\n",
    "    return get_data_dir()+'Merged_Data_Excel.xlsx'\n",
    "\n",
    "\n",
    "def train_file_path():\n",
    "    return get_data_dir()+'train_data.pkl'\n"
   ]
  },
  {
   "cell_type": "code",
   "execution_count": 3,
   "metadata": {},
   "outputs": [],
   "source": [
    "df = pd.read_excel(merged_file_path(),index_col=0,parse_dates=True )"
   ]
  },
  {
   "cell_type": "code",
   "execution_count": 4,
   "metadata": {},
   "outputs": [
    {
     "data": {
      "text/html": [
       "<div>\n",
       "<style scoped>\n",
       "    .dataframe tbody tr th:only-of-type {\n",
       "        vertical-align: middle;\n",
       "    }\n",
       "\n",
       "    .dataframe tbody tr th {\n",
       "        vertical-align: top;\n",
       "    }\n",
       "\n",
       "    .dataframe thead th {\n",
       "        text-align: right;\n",
       "    }\n",
       "</style>\n",
       "<table border=\"1\" class=\"dataframe\">\n",
       "  <thead>\n",
       "    <tr style=\"text-align: right;\">\n",
       "      <th></th>\n",
       "      <th>Open</th>\n",
       "      <th>High</th>\n",
       "      <th>Low</th>\n",
       "      <th>Close</th>\n",
       "      <th>Volume</th>\n",
       "      <th>SPOT_per_troy_ounce</th>\n",
       "      <th>days_since_epoch</th>\n",
       "    </tr>\n",
       "    <tr>\n",
       "      <th>Date</th>\n",
       "      <th></th>\n",
       "      <th></th>\n",
       "      <th></th>\n",
       "      <th></th>\n",
       "      <th></th>\n",
       "      <th></th>\n",
       "      <th></th>\n",
       "    </tr>\n",
       "  </thead>\n",
       "  <tbody>\n",
       "    <tr>\n",
       "      <th>1995-01-01</th>\n",
       "      <td>13.09375</td>\n",
       "      <td>13.12500</td>\n",
       "      <td>12.87500</td>\n",
       "      <td>12.87500</td>\n",
       "      <td>3295200</td>\n",
       "      <td>383.25</td>\n",
       "      <td>9131</td>\n",
       "    </tr>\n",
       "    <tr>\n",
       "      <th>1995-01-02</th>\n",
       "      <td>13.09375</td>\n",
       "      <td>13.12500</td>\n",
       "      <td>12.87500</td>\n",
       "      <td>12.87500</td>\n",
       "      <td>3295200</td>\n",
       "      <td>383.25</td>\n",
       "      <td>9132</td>\n",
       "    </tr>\n",
       "    <tr>\n",
       "      <th>1995-01-03</th>\n",
       "      <td>12.87500</td>\n",
       "      <td>12.96875</td>\n",
       "      <td>12.81250</td>\n",
       "      <td>12.93750</td>\n",
       "      <td>5140400</td>\n",
       "      <td>380.90</td>\n",
       "      <td>9133</td>\n",
       "    </tr>\n",
       "    <tr>\n",
       "      <th>1995-01-04</th>\n",
       "      <td>12.93750</td>\n",
       "      <td>12.93750</td>\n",
       "      <td>12.59375</td>\n",
       "      <td>12.65625</td>\n",
       "      <td>6486000</td>\n",
       "      <td>375.60</td>\n",
       "      <td>9134</td>\n",
       "    </tr>\n",
       "    <tr>\n",
       "      <th>1995-01-05</th>\n",
       "      <td>12.65625</td>\n",
       "      <td>12.68750</td>\n",
       "      <td>12.46875</td>\n",
       "      <td>12.59375</td>\n",
       "      <td>8465600</td>\n",
       "      <td>375.30</td>\n",
       "      <td>9135</td>\n",
       "    </tr>\n",
       "  </tbody>\n",
       "</table>\n",
       "</div>"
      ],
      "text/plain": [
       "                Open      High       Low     Close   Volume  \\\n",
       "Date                                                          \n",
       "1995-01-01  13.09375  13.12500  12.87500  12.87500  3295200   \n",
       "1995-01-02  13.09375  13.12500  12.87500  12.87500  3295200   \n",
       "1995-01-03  12.87500  12.96875  12.81250  12.93750  5140400   \n",
       "1995-01-04  12.93750  12.93750  12.59375  12.65625  6486000   \n",
       "1995-01-05  12.65625  12.68750  12.46875  12.59375  8465600   \n",
       "\n",
       "            SPOT_per_troy_ounce  days_since_epoch  \n",
       "Date                                               \n",
       "1995-01-01               383.25              9131  \n",
       "1995-01-02               383.25              9132  \n",
       "1995-01-03               380.90              9133  \n",
       "1995-01-04               375.60              9134  \n",
       "1995-01-05               375.30              9135  "
      ]
     },
     "execution_count": 4,
     "metadata": {},
     "output_type": "execute_result"
    }
   ],
   "source": [
    "df.head(5)"
   ]
  },
  {
   "cell_type": "code",
   "execution_count": 5,
   "metadata": {},
   "outputs": [],
   "source": [
    "scaler = MinMaxScaler()\n",
    "scaled = scaler.fit_transform(df)"
   ]
  },
  {
   "cell_type": "code",
   "execution_count": 6,
   "metadata": {},
   "outputs": [
    {
     "data": {
      "text/plain": [
       "(8766, 7)"
      ]
     },
     "execution_count": 6,
     "metadata": {},
     "output_type": "execute_result"
    }
   ],
   "source": [
    "scaled.shape"
   ]
  },
  {
   "cell_type": "code",
   "execution_count": 45,
   "metadata": {},
   "outputs": [
    {
     "data": {
      "text/plain": [
       "array([0.9239726 , 0.92642657, 0.91540227, 0.91341602, 0.09940339,\n",
       "       0.62489344, 0.99977182])"
      ]
     },
     "execution_count": 45,
     "metadata": {},
     "output_type": "execute_result"
    }
   ],
   "source": [
    "scaled[8763]"
   ]
  },
  {
   "cell_type": "code",
   "execution_count": 8,
   "metadata": {},
   "outputs": [],
   "source": [
    "timesteps=600"
   ]
  },
  {
   "cell_type": "code",
   "execution_count": 9,
   "metadata": {},
   "outputs": [
    {
     "data": {
      "text/plain": [
       "array([[0.01540657, 0.01543611, 0.01642036, 0.0171664 , 0.03383524,\n",
       "        0.07800512, 0.00022818],\n",
       "       [0.01702832, 0.01462368, 0.01067323, 0.00980937, 0.04475758,\n",
       "        0.07477774, 0.00034227]])"
      ]
     },
     "execution_count": 9,
     "metadata": {},
     "output_type": "execute_result"
    }
   ],
   "source": [
    "scaled[2:4]"
   ]
  },
  {
   "cell_type": "code",
   "execution_count": 16,
   "metadata": {},
   "outputs": [],
   "source": [
    "rowcount = scaled.shape[0]\n",
    "close_price_col_idx=3"
   ]
  },
  {
   "cell_type": "code",
   "execution_count": 33,
   "metadata": {},
   "outputs": [],
   "source": [
    "X_list=[]\n",
    "Y_list=[]"
   ]
  },
  {
   "cell_type": "code",
   "execution_count": 34,
   "metadata": {},
   "outputs": [],
   "source": [
    "for i in range(rowcount,timesteps+1,-1):\n",
    "    start_row=i-(timesteps)\n",
    "    end_row=i-2\n",
    "    y_val=scaled[i-1][close_price_col_idx]\n",
    "    Y_list.append(y_val)\n",
    "    x=scaled[start_row:end_row]\n",
    "    X_list.append(x)"
   ]
  },
  {
   "cell_type": "code",
   "execution_count": 35,
   "metadata": {},
   "outputs": [
    {
     "data": {
      "text/plain": [
       "8165"
      ]
     },
     "execution_count": 35,
     "metadata": {},
     "output_type": "execute_result"
    }
   ],
   "source": [
    "len(Y_list)"
   ]
  },
  {
   "cell_type": "code",
   "execution_count": 36,
   "metadata": {},
   "outputs": [
    {
     "data": {
      "text/plain": [
       "8165"
      ]
     },
     "execution_count": 36,
     "metadata": {},
     "output_type": "execute_result"
    }
   ],
   "source": [
    "len(X_list)"
   ]
  },
  {
   "cell_type": "code",
   "execution_count": 44,
   "metadata": {},
   "outputs": [
    {
     "data": {
      "text/plain": [
       "array([0.9239726 , 0.92642657, 0.91540227, 0.91341602, 0.09940339,\n",
       "       0.62489344, 0.99977182])"
      ]
     },
     "execution_count": 44,
     "metadata": {},
     "output_type": "execute_result"
    }
   ],
   "source": [
    "X_list[0][597]"
   ]
  },
  {
   "cell_type": "code",
   "execution_count": 47,
   "metadata": {},
   "outputs": [],
   "source": [
    "batch_size=32"
   ]
  },
  {
   "cell_type": "code",
   "execution_count": 48,
   "metadata": {},
   "outputs": [],
   "source": [
    "X_arr=np.asarray(X_list)"
   ]
  },
  {
   "cell_type": "code",
   "execution_count": 49,
   "metadata": {},
   "outputs": [
    {
     "data": {
      "text/plain": [
       "(8165, 598, 7)"
      ]
     },
     "execution_count": 49,
     "metadata": {},
     "output_type": "execute_result"
    }
   ],
   "source": [
    "X_arr.shape"
   ]
  },
  {
   "cell_type": "code",
   "execution_count": null,
   "metadata": {},
   "outputs": [],
   "source": []
  }
 ],
 "metadata": {
  "kernelspec": {
   "display_name": "Python 3",
   "language": "python",
   "name": "python3"
  },
  "language_info": {
   "codemirror_mode": {
    "name": "ipython",
    "version": 3
   },
   "file_extension": ".py",
   "mimetype": "text/x-python",
   "name": "python",
   "nbconvert_exporter": "python",
   "pygments_lexer": "ipython3",
   "version": "3.7.3"
  }
 },
 "nbformat": 4,
 "nbformat_minor": 2
}
