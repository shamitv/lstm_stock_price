{
 "cells": [
  {
   "cell_type": "code",
   "execution_count": null,
   "metadata": {},
   "outputs": [],
   "source": [
    "import pandas as pd\n",
    "import numpy as np\n",
    "\n",
    "from lxml import etree"
   ]
  },
  {
   "cell_type": "code",
   "execution_count": null,
   "metadata": {},
   "outputs": [],
   "source": [
    "def get_data_dir():\n",
    "    return '../data/'\n",
    "\n",
    "\n",
    "def macro_raw_dir():\n",
    "    return get_data_dir()+'macro/raw/'\n",
    "\n",
    "\n",
    "def stock_dir():\n",
    "    return get_data_dir()+'stock/'\n",
    "\n",
    "\n",
    "def us_treasury_yield_file_raw():\n",
    "    return macro_raw_dir()+'us_daily_treasury_yield_40_year.xml'\n",
    "\n",
    "\n",
    "def us_treasury_yield_file_processed():\n",
    "    return get_data_dir()+'macro/'+'us_daily_treasury_yield_1990.xlsx'"
   ]
  },
  {
   "cell_type": "code",
   "execution_count": null,
   "metadata": {},
   "outputs": [],
   "source": [
    "doc = etree.parse(us_treasury_yield_file_raw())"
   ]
  },
  {
   "cell_type": "code",
   "execution_count": null,
   "metadata": {},
   "outputs": [],
   "source": [
    "doc"
   ]
  },
  {
   "cell_type": "code",
   "execution_count": null,
   "metadata": {},
   "outputs": [],
   "source": [
    "root = doc.getroot() \n",
    "props=root.xpath('//m:properties',namespaces={'d': 'http://schemas.microsoft.com/ado/2007/08/dataservices',\n",
    "                                              'm': 'http://schemas.microsoft.com/ado/2007/08/dataservices/metadata'})"
   ]
  },
  {
   "cell_type": "code",
   "execution_count": null,
   "metadata": {},
   "outputs": [],
   "source": [
    "len(props)"
   ]
  },
  {
   "cell_type": "code",
   "execution_count": null,
   "metadata": {},
   "outputs": [],
   "source": [
    "def get_val(props,child_tag):\n",
    "    xpath='./'+child_tag\n",
    "    elem = props.find(xpath,namespaces={'d': 'http://schemas.microsoft.com/ado/2007/08/dataservices',\n",
    "                                              'm': 'http://schemas.microsoft.com/ado/2007/08/dataservices/metadata'})\n",
    "    #print(elem.text)\n",
    "    #print(len(elem))\n",
    "    if(elem is not None):\n",
    "        return elem.text\n",
    "    else:\n",
    "        return None"
   ]
  },
  {
   "cell_type": "code",
   "execution_count": null,
   "metadata": {},
   "outputs": [],
   "source": [
    "prop_attribs={\n",
    "        'id':'d:Id',\n",
    "        'date':'d:NEW_DATE',\n",
    "        '1_month':'d:BC_1MONTH',\n",
    "        '2_month':'d:BC_2MONTH',\n",
    "        '3_month':'d:BC_3MONTH',\n",
    "        '6_month':'d:BC_6MONTH',\n",
    "        '1_year':'d:BC_1YEAR',\n",
    "        '2_year':'d:BC_2YEAR',\n",
    "        '3_year':'d:BC_3YEAR',\n",
    "        '5_year':'d:BC_5YEAR',\n",
    "        '7_year':'d:BC_7YEAR',\n",
    "        '10_year':'d:BC_10YEAR',\n",
    "        '20_year':'d:BC_20YEAR',\n",
    "        '30_year':'d:BC_30YEAR',\n",
    "        '30_year_disp':'d:BC_30YEARDISPLAY'\n",
    "    }\n",
    "def get_rates(props):\n",
    "    vals={}\n",
    "    for key, xml_tag in prop_attribs.items():\n",
    "        #print(xml_tag)\n",
    "        val=get_val(props,xml_tag)\n",
    "        #print(\"\\t\\t\"+str(val))\n",
    "        vals[key]=val\n",
    "    return vals"
   ]
  },
  {
   "cell_type": "code",
   "execution_count": null,
   "metadata": {},
   "outputs": [],
   "source": [
    "vals=get_rates(props[0])"
   ]
  },
  {
   "cell_type": "code",
   "execution_count": null,
   "metadata": {},
   "outputs": [],
   "source": [
    "vals"
   ]
  },
  {
   "cell_type": "code",
   "execution_count": null,
   "metadata": {},
   "outputs": [],
   "source": [
    "src_data={}\n",
    "for key in prop_attribs:\n",
    "    src_data[key]=[]"
   ]
  },
  {
   "cell_type": "code",
   "execution_count": null,
   "metadata": {},
   "outputs": [],
   "source": [
    "src_data"
   ]
  },
  {
   "cell_type": "code",
   "execution_count": null,
   "metadata": {},
   "outputs": [],
   "source": [
    "for p in props:\n",
    "    vals=get_rates(p)\n",
    "    for key , val in vals.items():\n",
    "        src_data[key].append(val)"
   ]
  },
  {
   "cell_type": "code",
   "execution_count": null,
   "metadata": {},
   "outputs": [],
   "source": [
    "#src_data"
   ]
  },
  {
   "cell_type": "code",
   "execution_count": null,
   "metadata": {},
   "outputs": [],
   "source": [
    "df = pd.DataFrame.from_dict(src_data)"
   ]
  },
  {
   "cell_type": "code",
   "execution_count": null,
   "metadata": {},
   "outputs": [],
   "source": [
    "#df"
   ]
  },
  {
   "cell_type": "code",
   "execution_count": null,
   "metadata": {},
   "outputs": [],
   "source": [
    "len(df)"
   ]
  },
  {
   "cell_type": "code",
   "execution_count": null,
   "metadata": {},
   "outputs": [],
   "source": [
    "df=df.drop(['id','1_month','2_month','30_year_disp'],axis=1)"
   ]
  },
  {
   "cell_type": "code",
   "execution_count": null,
   "metadata": {},
   "outputs": [],
   "source": [
    "df.columns"
   ]
  },
  {
   "cell_type": "code",
   "execution_count": null,
   "metadata": {},
   "outputs": [],
   "source": [
    "df"
   ]
  },
  {
   "cell_type": "code",
   "execution_count": null,
   "metadata": {},
   "outputs": [],
   "source": [
    "df['date']= pd.to_datetime(df['date'])"
   ]
  },
  {
   "cell_type": "code",
   "execution_count": null,
   "metadata": {},
   "outputs": [],
   "source": [
    "df"
   ]
  },
  {
   "cell_type": "code",
   "execution_count": null,
   "metadata": {},
   "outputs": [],
   "source": [
    "df = df.set_index('date')"
   ]
  },
  {
   "cell_type": "code",
   "execution_count": null,
   "metadata": {},
   "outputs": [],
   "source": [
    "df"
   ]
  },
  {
   "cell_type": "code",
   "execution_count": null,
   "metadata": {},
   "outputs": [],
   "source": [
    "df = df.convert_objects(convert_numeric=True)\n",
    "#df = df.infer_objects()"
   ]
  },
  {
   "cell_type": "code",
   "execution_count": null,
   "metadata": {},
   "outputs": [],
   "source": [
    "df"
   ]
  },
  {
   "cell_type": "code",
   "execution_count": null,
   "metadata": {},
   "outputs": [],
   "source": [
    "df.to_excel(us_treasury_yield_file_processed())"
   ]
  },
  {
   "cell_type": "code",
   "execution_count": null,
   "metadata": {},
   "outputs": [],
   "source": []
  }
 ],
 "metadata": {
  "kernelspec": {
   "display_name": "Python 3",
   "language": "python",
   "name": "python3"
  },
  "language_info": {
   "codemirror_mode": {
    "name": "ipython",
    "version": 3
   },
   "file_extension": ".py",
   "mimetype": "text/x-python",
   "name": "python",
   "nbconvert_exporter": "python",
   "pygments_lexer": "ipython3",
   "version": "3.7.3"
  }
 },
 "nbformat": 4,
 "nbformat_minor": 2
}
