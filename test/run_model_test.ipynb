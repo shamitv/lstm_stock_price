{
 "cells": [
  {
   "cell_type": "code",
   "execution_count": null,
   "metadata": {},
   "outputs": [],
   "source": [
    "import pandas as pd\n",
    "import numpy as np\n",
    "from tensorflow.keras.models import load_model\n",
    "from sklearn.externals import joblib\n",
    "\n",
    "\n",
    "def get_data_dir():\n",
    "    return '../data/'\n",
    "\n",
    "\n",
    "def merged_file_path():\n",
    "    return get_data_dir()+'Merged_Data_Excel_Test.xlsx'\n",
    "\n",
    "\n",
    "def train_file_path():\n",
    "    return get_data_dir()+'train_data.pkl'\n",
    "\n",
    "\n",
    "def scaler_file_path():\n",
    "    return get_data_dir()+'scaler.pkl'\n",
    "\n",
    "\n",
    "def model_file_path():\n",
    "    return get_data_dir()+'/models/'+'/model-v4-epoch-145-val_loss-0.00.h5'\n",
    "\n",
    "\n",
    "df = pd.read_excel(merged_file_path(),index_col=0,parse_dates=True )\n",
    "df.ffill(inplace=True)\n",
    "print(\"Rows in data : \"+str(len(df)))\n",
    "\n",
    "scaler = joblib.load(scaler_file_path())\n",
    "#w_data = df.as_matrix()\n",
    "\n",
    "scaled = scaler.transform(df)\n",
    "\n",
    "timesteps=60\n",
    "rowcount = scaled.shape[0]\n",
    "close_price_col_idx=0\n",
    "\n",
    "X_list=[]\n",
    "Y_list=[]\n",
    "\n",
    "\n",
    "for i in range(timesteps,rowcount,1):\n",
    "    target_row=scaled[i]\n",
    "    y_val = target_row[close_price_col_idx]\n",
    "    start_row=i-timesteps\n",
    "    end_row=i\n",
    "\n",
    "    Y_list.append(y_val)\n",
    "    x=scaled[start_row:end_row]\n",
    "    x_first_row=x[0]\n",
    "    x_last_row = x[timesteps-1]\n",
    "    X_list.append(x)\n",
    "\n",
    "\n",
    "    \n",
    "X=np.asarray(X_list)\n",
    "Y_hat=np.asarray(Y_list)\n",
    "\n",
    "num_features=X.shape[2]\n",
    "\n",
    "\n",
    "print(X.shape)\n",
    "print(Y_hat.shape)\n",
    "\n",
    "print(\"Data prepared\")\n",
    "\n",
    "model = load_model(model_file_path())\n",
    "\n",
    "num_samples=X.shape[0]\n"
   ]
  },
  {
   "cell_type": "code",
   "execution_count": null,
   "metadata": {},
   "outputs": [],
   "source": [
    "close_prices=scaled[timesteps:,close_price_col_idx]"
   ]
  },
  {
   "cell_type": "code",
   "execution_count": null,
   "metadata": {},
   "outputs": [],
   "source": [
    "timestamps=df.index.values[timesteps:]"
   ]
  },
  {
   "cell_type": "code",
   "execution_count": null,
   "metadata": {},
   "outputs": [],
   "source": [
    "cp_df=pd.DataFrame(data=close_prices,columns=['close_price'])\n"
   ]
  },
  {
   "cell_type": "code",
   "execution_count": null,
   "metadata": {},
   "outputs": [],
   "source": [
    "from plotly.offline import download_plotlyjs, init_notebook_mode, plot, iplot\n",
    "import plotly.graph_objs as go\n",
    "import cufflinks as cf\n",
    "\n",
    "init_notebook_mode(connected=True)\n",
    "cf.go_offline()"
   ]
  },
  {
   "cell_type": "code",
   "execution_count": null,
   "metadata": {},
   "outputs": [],
   "source": [
    "y_all = model.predict(X, batch_size=32)"
   ]
  },
  {
   "cell_type": "code",
   "execution_count": null,
   "metadata": {},
   "outputs": [],
   "source": [
    "cp_df['forecast']=np.asarray(y_all)"
   ]
  },
  {
   "cell_type": "code",
   "execution_count": null,
   "metadata": {},
   "outputs": [],
   "source": [
    "cp_df['date'] = timestamps\n",
    "cp_df = cp_df.set_index('date')"
   ]
  },
  {
   "cell_type": "code",
   "execution_count": null,
   "metadata": {},
   "outputs": [],
   "source": [
    "temp_arr=np.zeros((num_samples,num_features))"
   ]
  },
  {
   "cell_type": "code",
   "execution_count": null,
   "metadata": {},
   "outputs": [],
   "source": [
    "temp_arr[:,close_price_col_idx]=cp_df['forecast']"
   ]
  },
  {
   "cell_type": "code",
   "execution_count": null,
   "metadata": {},
   "outputs": [],
   "source": [
    "unscaled=scaler.inverse_transform(temp_arr)"
   ]
  },
  {
   "cell_type": "code",
   "execution_count": null,
   "metadata": {},
   "outputs": [],
   "source": [
    "unscaled_y_out=unscaled[:,close_price_col_idx]"
   ]
  },
  {
   "cell_type": "code",
   "execution_count": null,
   "metadata": {},
   "outputs": [],
   "source": [
    "cp_df['forecast']=unscaled_y_out\n",
    "cp_df['close_price']=df['Close']"
   ]
  },
  {
   "cell_type": "code",
   "execution_count": null,
   "metadata": {},
   "outputs": [],
   "source": [
    "cp_df.iplot()"
   ]
  },
  {
   "cell_type": "code",
   "execution_count": null,
   "metadata": {},
   "outputs": [],
   "source": []
  }
 ],
 "metadata": {
  "kernelspec": {
   "display_name": "Python 3",
   "language": "python",
   "name": "python3"
  },
  "language_info": {
   "codemirror_mode": {
    "name": "ipython",
    "version": 3
   },
   "file_extension": ".py",
   "mimetype": "text/x-python",
   "name": "python",
   "nbconvert_exporter": "python",
   "pygments_lexer": "ipython3",
   "version": "3.7.3"
  }
 },
 "nbformat": 4,
 "nbformat_minor": 2
}
